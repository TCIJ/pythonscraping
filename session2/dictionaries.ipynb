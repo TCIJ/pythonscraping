{
  "nbformat": 4,
  "nbformat_minor": 0,
  "metadata": {
    "colab": {
      "name": "dictionaries.ipynb",
      "provenance": [],
      "collapsed_sections": []
    },
    "kernelspec": {
      "name": "python3",
      "display_name": "Python 3"
    },
    "language_info": {
      "name": "python"
    }
  },
  "cells": [
    {
      "cell_type": "markdown",
      "metadata": {
        "id": "WqMwqaEfXgem"
      },
      "source": [
        "# Looping (iterating) through dictionaries and accessing keys/values\n",
        "\n",
        "Dictionaries are different from lists in some key ways. Here's an example:"
      ]
    },
    {
      "cell_type": "code",
      "metadata": {
        "id": "xG4Zk87dV_XH"
      },
      "source": [
        "#create a dictionary\n",
        "bestpaidweeklysalaries = {\"gareth bale\":600000, \"david de gea\":375000, \"kevin de bruyne\":350000, \"raheem sterling\":300000, \"paul pogba\":290000, \"thomas partey\":250000, \"pierre-emerick aubameyang\":250000, \"anthony martial\":250000, \"sergio aguero\":230000, \"edinson cavani\":210000}\n"
      ],
      "execution_count": 14,
      "outputs": []
    },
    {
      "cell_type": "markdown",
      "metadata": {
        "id": "vhdl5iLPflX4"
      },
      "source": [
        "We've created an index, but if we try to access by index it doesn't work."
      ]
    },
    {
      "cell_type": "code",
      "metadata": {
        "colab": {
          "base_uri": "https://localhost:8080/",
          "height": 189
        },
        "id": "e5QZABwVWG7Q",
        "outputId": "2b0cbb16-a2a9-4b57-ed01-590409d50c5c"
      },
      "source": [
        "#try to print an index\n",
        "bestpaidweeklysalaries[0]"
      ],
      "execution_count": 15,
      "outputs": [
        {
          "output_type": "error",
          "ename": "KeyError",
          "evalue": "ignored",
          "traceback": [
            "\u001b[0;31m---------------------------------------------------------------------------\u001b[0m",
            "\u001b[0;31mKeyError\u001b[0m                                  Traceback (most recent call last)",
            "\u001b[0;32m<ipython-input-15-0e04b7cf3ec0>\u001b[0m in \u001b[0;36m<module>\u001b[0;34m()\u001b[0m\n\u001b[1;32m      1\u001b[0m \u001b[0;31m#try to print an index\u001b[0m\u001b[0;34m\u001b[0m\u001b[0;34m\u001b[0m\u001b[0;34m\u001b[0m\u001b[0m\n\u001b[0;32m----> 2\u001b[0;31m \u001b[0mbestpaidweeklysalaries\u001b[0m\u001b[0;34m[\u001b[0m\u001b[0;36m0\u001b[0m\u001b[0;34m]\u001b[0m\u001b[0;34m\u001b[0m\u001b[0;34m\u001b[0m\u001b[0m\n\u001b[0m",
            "\u001b[0;31mKeyError\u001b[0m: 0"
          ]
        }
      ]
    },
    {
      "cell_type": "markdown",
      "metadata": {
        "id": "jrFNyyEOfolH"
      },
      "source": [
        "Specifically, we get a 'KeyError'. What does that mean? Basically it means '0' is not a key. \n",
        "\n",
        "Instead, we need to put a *key* inside those square brackets (including the quotation marks) to access the *value* associated with it."
      ]
    },
    {
      "cell_type": "code",
      "metadata": {
        "colab": {
          "base_uri": "https://localhost:8080/"
        },
        "id": "Bu7qOD4afzqf",
        "outputId": "bceae564-df05-4112-b76d-70976368454c"
      },
      "source": [
        "bestpaidweeklysalaries['gareth bale']"
      ],
      "execution_count": 16,
      "outputs": [
        {
          "output_type": "execute_result",
          "data": {
            "text/plain": [
              "600000"
            ]
          },
          "metadata": {},
          "execution_count": 16
        }
      ]
    },
    {
      "cell_type": "markdown",
      "metadata": {
        "id": "7pQAIuSB_Nzu"
      },
      "source": [
        "Dictionaries also don't work properly with `min` or `max` functions. For example:"
      ]
    },
    {
      "cell_type": "code",
      "metadata": {
        "id": "lFHU_hepW0Hf",
        "colab": {
          "base_uri": "https://localhost:8080/",
          "height": 36
        },
        "outputId": "a0a73045-5d0d-4ff1-c58c-5d60a7c70ae7"
      },
      "source": [
        "#create a dictionary\n",
        "biscuitratings = {\"custard creams\":9,\"bourbons\":8,\"chocolate digestives\":7.5,\"ginger snaps\":100,\"Fox's golden crunch creams\":1}\n",
        "#print the min\n",
        "min(biscuitratings)\n"
      ],
      "execution_count": 3,
      "outputs": [
        {
          "output_type": "execute_result",
          "data": {
            "application/vnd.google.colaboratory.intrinsic+json": {
              "type": "string"
            },
            "text/plain": [
              "\"Fox's golden crunch creams\""
            ]
          },
          "metadata": {},
          "execution_count": 3
        }
      ]
    },
    {
      "cell_type": "code",
      "metadata": {
        "colab": {
          "base_uri": "https://localhost:8080/",
          "height": 36
        },
        "id": "MYCK5J6nW2a-",
        "outputId": "6c45a886-5056-4ff1-8ea3-f547116c51df"
      },
      "source": [
        "max(biscuitratings)"
      ],
      "execution_count": 2,
      "outputs": [
        {
          "output_type": "execute_result",
          "data": {
            "application/vnd.google.colaboratory.intrinsic+json": {
              "type": "string"
            },
            "text/plain": [
              "'ginger snaps'"
            ]
          },
          "metadata": {},
          "execution_count": 2
        }
      ]
    },
    {
      "cell_type": "markdown",
      "metadata": {
        "id": "EP2uHfw9ARuw"
      },
      "source": [
        "## Looping through dictionaries \n",
        "\n",
        "You can also loop through each key-value pair by using the `.items()` method like so:"
      ]
    },
    {
      "cell_type": "code",
      "metadata": {
        "colab": {
          "base_uri": "https://localhost:8080/"
        },
        "id": "ZGFTNOgCBuKm",
        "outputId": "84e558ce-9a55-4eb7-ea7a-9a08c03f6325"
      },
      "source": [
        "for i in biscuitratings.items():\n",
        "  print(i)"
      ],
      "execution_count": 23,
      "outputs": [
        {
          "output_type": "stream",
          "name": "stdout",
          "text": [
            "('custard creams', 9)\n",
            "('bourbons', 8)\n",
            "('chocolate digestives', 7.5)\n",
            "('ginger snaps', 100)\n",
            "(\"Fox's golden crunch creams\", 1)\n"
          ]
        }
      ]
    },
    {
      "cell_type": "markdown",
      "metadata": {
        "id": "hMM77S1-CHMt"
      },
      "source": [
        "You can also split the keys and values by specifying *two* items after `for` like so:"
      ]
    },
    {
      "cell_type": "code",
      "metadata": {
        "colab": {
          "base_uri": "https://localhost:8080/"
        },
        "id": "gR0G5B82CLPi",
        "outputId": "e8d10572-01f4-42d2-c37b-89af18952226"
      },
      "source": [
        "#loop through the items, assigning the key to 'a' and value to 'b'\n",
        "for a, b in biscuitratings.items():\n",
        "  #create a string combining 'a' and 'is the key'\n",
        "  print(a+\" is the key\")\n",
        "  #convert the value to a string - a number cannot be joined to a string\n",
        "  turnedintotext = str(b)\n",
        "  #join that string to 'is the value'\n",
        "  print(turnedintotext+\" is the value\")"
      ],
      "execution_count": 29,
      "outputs": [
        {
          "output_type": "stream",
          "name": "stdout",
          "text": [
            "custard creams is the key\n",
            "9 is the value\n",
            "bourbons is the key\n",
            "8 is the value\n",
            "chocolate digestives is the key\n",
            "7.5 is the value\n",
            "ginger snaps is the key\n",
            "100 is the value\n",
            "Fox's golden crunch creams is the key\n",
            "1 is the value\n"
          ]
        }
      ]
    },
    {
      "cell_type": "markdown",
      "metadata": {
        "id": "ETzQqprZfiBp"
      },
      "source": [
        "If you don't know the key in a dictionary, you can use the `.keys()` method. This returns a list of all the keys in a dictionary, like so:"
      ]
    },
    {
      "cell_type": "code",
      "metadata": {
        "colab": {
          "base_uri": "https://localhost:8080/"
        },
        "id": "T4P9nT32AIzO",
        "outputId": "cc4ccdd0-3fe8-438e-e072-25c6363a9fd6"
      },
      "source": [
        "print(biscuitratings.keys())"
      ],
      "execution_count": 7,
      "outputs": [
        {
          "output_type": "stream",
          "name": "stdout",
          "text": [
            "dict_keys(['custard creams', 'bourbons', 'chocolate digestives', 'ginger snaps', \"Fox's golden crunch creams\"])\n"
          ]
        }
      ]
    },
    {
      "cell_type": "code",
      "metadata": {
        "colab": {
          "base_uri": "https://localhost:8080/"
        },
        "id": "xxx9oQWWW4MO",
        "outputId": "c1285d8c-cc6d-416c-e261-b79274cd2cba"
      },
      "source": [
        "for i in biscuitratings.keys():\n",
        "  print(i)"
      ],
      "execution_count": 5,
      "outputs": [
        {
          "output_type": "stream",
          "name": "stdout",
          "text": [
            "custard creams\n",
            "bourbons\n",
            "chocolate digestives\n",
            "ginger snaps\n",
            "Fox's golden crunch creams\n"
          ]
        }
      ]
    },
    {
      "cell_type": "markdown",
      "metadata": {
        "id": "GSGmIa1XAUn_"
      },
      "source": [
        "For values you can use `.values()`"
      ]
    },
    {
      "cell_type": "code",
      "metadata": {
        "colab": {
          "base_uri": "https://localhost:8080/"
        },
        "id": "4fBTQKQfAWpw",
        "outputId": "cf9cb323-15c3-477f-8a31-9713674f443e"
      },
      "source": [
        "for i in biscuitratings.values():\n",
        "  print(i)"
      ],
      "execution_count": 8,
      "outputs": [
        {
          "output_type": "stream",
          "name": "stdout",
          "text": [
            "9\n",
            "8\n",
            "7.5\n",
            "100\n",
            "1\n"
          ]
        }
      ]
    },
    {
      "cell_type": "markdown",
      "metadata": {
        "id": "7Hy08uZGAb0n"
      },
      "source": [
        "That can be easily turned into a list by using the `list()` function. First we extract the values:"
      ]
    },
    {
      "cell_type": "code",
      "metadata": {
        "colab": {
          "base_uri": "https://localhost:8080/"
        },
        "id": "abjWckg6AgGh",
        "outputId": "e4b40075-7b90-4d01-ac59-fc8454416ebd"
      },
      "source": [
        "#store the values in a variable\n",
        "thevalues = biscuitratings.values()\n",
        "#check what type of variable it is\n",
        "type(thevalues)"
      ],
      "execution_count": 20,
      "outputs": [
        {
          "output_type": "execute_result",
          "data": {
            "text/plain": [
              "dict_values"
            ]
          },
          "metadata": {},
          "execution_count": 20
        }
      ]
    },
    {
      "cell_type": "markdown",
      "metadata": {
        "id": "wVDzYI9vBZIr"
      },
      "source": [
        "Note that this is not yet a list - it's a `dict_values` type. Next we convert it:"
      ]
    },
    {
      "cell_type": "code",
      "metadata": {
        "colab": {
          "base_uri": "https://localhost:8080/"
        },
        "id": "GrFeNE0SBVGW",
        "outputId": "ce7bdf69-a84a-467d-d9ba-20aab5e1031f"
      },
      "source": [
        "#convert that variable into a list\n",
        "thevalues = list(thevalues)\n",
        "#check the type\n",
        "type(thevalues)"
      ],
      "execution_count": 22,
      "outputs": [
        {
          "output_type": "execute_result",
          "data": {
            "text/plain": [
              "list"
            ]
          },
          "metadata": {},
          "execution_count": 22
        }
      ]
    },
    {
      "cell_type": "markdown",
      "metadata": {
        "id": "1F74tcIwBizd"
      },
      "source": [
        "That means we can use a function like `max()`:"
      ]
    },
    {
      "cell_type": "code",
      "metadata": {
        "id": "UbQo4pUSBX-W"
      },
      "source": [
        "#calculate the max value\n",
        "max(thevalues)"
      ],
      "execution_count": null,
      "outputs": []
    },
    {
      "cell_type": "markdown",
      "metadata": {
        "id": "2HS_x-sbAOfJ"
      },
      "source": [
        "More info on dictionaries and how to use them at:\n",
        "\n",
        "https://realpython.com/iterate-through-dictionary-python/"
      ]
    },
    {
      "cell_type": "markdown",
      "metadata": {
        "id": "m_2IJbY2C2T5"
      },
      "source": [
        "## Dictionaries and good data structure\n",
        "\n",
        "Ultimately it's often better to think about the data structure with keys as column headings and values coming in that column, rather than storing information in headings. For example the wages data might be better stored like this:"
      ]
    },
    {
      "cell_type": "code",
      "metadata": {
        "id": "iNoBEEmkYAV0"
      },
      "source": [
        "player1 = {\"name\":\"David de Gea\", \"wage\":60000}\n",
        "player2 = {\"name\":\"Gareth Bale\", \"wage\":100000}"
      ],
      "execution_count": null,
      "outputs": []
    },
    {
      "cell_type": "markdown",
      "metadata": {
        "id": "vrxDLoNIDEkw"
      },
      "source": [
        "And the biscuit ratings like this:"
      ]
    },
    {
      "cell_type": "code",
      "metadata": {
        "id": "OHewD1xJDF-n"
      },
      "source": [
        "biscuit1 = {\"name\":\"ginger snaps\", \"rating\": 2}\n",
        "biscuit1 = {\"name\":\"Bourbon\", \"rating\": 5}"
      ],
      "execution_count": 30,
      "outputs": []
    },
    {
      "cell_type": "markdown",
      "metadata": {
        "id": "cS8AxaX7DMfs"
      },
      "source": [
        "Those can then be joined into a table-like structure such as a `pandas` data frame."
      ]
    }
  ]
}